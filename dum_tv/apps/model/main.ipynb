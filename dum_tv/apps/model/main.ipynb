{
 "cells": [
  {
   "cell_type": "markdown",
   "metadata": {},
   "source": []
  },
  {
   "cell_type": "code",
   "execution_count": 86,
   "metadata": {},
   "outputs": [
    {
     "name": "stdout",
     "output_type": "stream",
     "text": [
      "/home/tjrym/workspace/DUM-TV/dum_tv/apps/model/main.py\n"
     ]
    }
   ],
   "source": [
    "import dum_tv.apps.model.main as main\n",
    "from pathlib import Path\n",
    "import dum_tv as pkg\n",
    "\n",
    "configs_path =main.configs_path\n",
    "__file__ = Path(Path(pkg.__file__).parent,\"apps/model/main.py\")\n",
    "print(__file__)"
   ]
  },
  {
   "cell_type": "markdown",
   "metadata": {},
   "source": []
  },
  {
   "cell_type": "code",
   "execution_count": 87,
   "metadata": {},
   "outputs": [],
   "source": [
    "from datetime import datetime\n",
    "import copy\n",
    "d = {\n",
    "        \"experiments\":{}\n",
    "}\n",
    "\n",
    "dexp = d[\"experiments\"]\n",
    "\n",
    "dd = {\n",
    "        \"note\":\"Toy denoise\",\n",
    "        \"datetime\":f\"{datetime.now()}\",\n",
    "        \"compiler\":\"compile_iteration_tv\",\n",
    "        \"config\":{\n",
    "                \"patch_shape\":(3,256,256), \n",
    "                \"n_iteration\":40, # depth of DU\n",
    "                \"varia_d\": {\n",
    "                    \"kO\":2,\n",
    "                    \"kR\":1,\n",
    "                    \"C\":3,\n",
    "                    \"kerK\":\"DxDy\",\n",
    "                    \"beta\":0.04,\n",
    "                    \"rho\":0.8\n",
    "                },\n",
    "                \"varia_d-name\":\"Toy\",\n",
    "        }\n",
    "}\n",
    "\n",
    "dexp[\"iteration\"] = dd\n",
    "\n"
   ]
  },
  {
   "cell_type": "code",
   "execution_count": 88,
   "metadata": {},
   "outputs": [],
   "source": [
    "\n",
    "dd = {\n",
    "        \"note\":\"Toy denoise\",\n",
    "        \"datetime\":f\"{datetime.now()}\",\n",
    "        \"compiler\":\"compile_training_tv\",\n",
    "        \"config\":{\n",
    "                \"patch_shape\":(3,256,256), \n",
    "                \"n_iteration\":64, # depth of DU\n",
    "                \"varia_d\": {\n",
    "                    \"kO\":4,\n",
    "                    \"kR\":5,\n",
    "                    \"C\":3,\n",
    "                    \"kerK\":\"DxDy\",\n",
    "                    \"beta\":0.04,\n",
    "                    \"rho\":0.8\n",
    "                },\n",
    "                \"varia_d-name\":\"Toy\",\n",
    "            \"lr\":2e-4,\n",
    "            \"lr_scheduler_frequency\":2000,\n",
    "            \"max_epochs\":20,\n",
    "        },\n",
    "        \n",
    "}\n",
    "dexp['training'] = dd"
   ]
  },
  {
   "cell_type": "markdown",
   "metadata": {},
   "source": []
  },
  {
   "cell_type": "code",
   "execution_count": 89,
   "metadata": {},
   "outputs": [],
   "source": [
    "\n",
    "from ren_utils.rennet import call_by_inspect,getitems_as_dict,RenNetDumper,RenNetLoader,add_representers, add_constructors\n",
    "\n",
    "import yaml\n",
    "\n",
    "# def rep_varia_ins(dumper, data:Variable_Instructions, tag):\n",
    "#         return dumper.represent_mapping(tag,dict(vars(data)))\n",
    "# \n",
    "# def con_varia_ins(loader, node, tag):\n",
    "#         d= loader.construct_mapping(node, deep=True)\n",
    "#         v=  Variable_Instructions(**d)\n",
    "#         return v\n",
    "# \n",
    "# add_representers(RenNetDumper,[rep_varia_ins],prefix=\"rep\")\n",
    "# add_constructors(RenNetLoader,[con_varia_ins],prefix=\"con\")\n",
    "\n",
    "from pathlib import Path\n",
    "import dum_tv\n",
    "root_pkg = Path(dum_tv.__file__).parent\n",
    "assert __file__.exists(), str(__file__)\n",
    "_config_yaml = \".\".join(Path(__file__).relative_to(root_pkg).parts)\n",
    "_config_yaml = Path(root_pkg,\"../Scripts\",_config_yaml)\n",
    "_config_yaml = Path(_config_yaml.parent,_config_yaml.stem+\".yaml\")\n",
    "\n",
    "import os\n",
    "if _config_yaml.exists():\n",
    "        os.remove(_config_yaml)\n",
    "\n",
    "with open(_config_yaml,\"x\") as f:\n",
    "        yaml.dump(d,f,Dumper=RenNetDumper)\n",
    "\n"
   ]
  },
  {
   "cell_type": "code",
   "execution_count": 90,
   "metadata": {},
   "outputs": [
    {
     "name": "stdout",
     "output_type": "stream",
     "text": [
      "['iteration', 'training']\n"
     ]
    }
   ],
   "source": [
    "import yaml\n",
    "from ren_utils.rennet import call_by_inspect,getitems_as_dict,RenNetDumper,RenNetLoader\n",
    "\n",
    "with open(_config_yaml,\"r\") as f:\n",
    "        d_ = yaml.load(f,Loader=RenNetLoader)\n",
    "\n",
    "\n",
    "from pprint import pprint\n",
    "pprint(list(d_[\"experiments\"].keys()))"
   ]
  },
  {
   "cell_type": "code",
   "execution_count": 91,
   "metadata": {},
   "outputs": [
    {
     "name": "stdout",
     "output_type": "stream",
     "text": [
      "{'experiments': {'iteration': {'compiler': 'compile_iteration_tv',\n",
      "                               'config': {'n_iteration': 40,\n",
      "                                          'patch_shape': [3, 256, 256],\n",
      "                                          'varia_d': {'C': 3,\n",
      "                                                      'beta': 0.04,\n",
      "                                                      'kO': 2,\n",
      "                                                      'kR': 1,\n",
      "                                                      'kerK': 'DxDy',\n",
      "                                                      'rho': 0.8},\n",
      "                                          'varia_d-name': 'Toy'},\n",
      "                               'datetime': '2023-09-15 00:05:45.939378',\n",
      "                               'note': 'Toy denoise'},\n",
      "                 'training': {'compiler': 'compile_training_tv',\n",
      "                              'config': {'lr': 0.0002,\n",
      "                                         'lr_scheduler_frequency': 2000,\n",
      "                                         'max_epochs': 20,\n",
      "                                         'n_iteration': 64,\n",
      "                                         'patch_shape': [3, 256, 256],\n",
      "                                         'varia_d': {'C': 3,\n",
      "                                                     'beta': 0.04,\n",
      "                                                     'kO': 4,\n",
      "                                                     'kR': 5,\n",
      "                                                     'kerK': 'DxDy',\n",
      "                                                     'rho': 0.8},\n",
      "                                         'varia_d-name': 'Toy'},\n",
      "                              'datetime': '2023-09-15 00:05:45.945935',\n",
      "                              'note': 'Toy denoise'}}}\n"
     ]
    }
   ],
   "source": [
    "\n",
    "pprint(d_)"
   ]
  }
 ],
 "metadata": {
  "kernelspec": {
   "display_name": "Python 3.10.6 ('pytorch112')",
   "language": "python",
   "name": "python3"
  },
  "language_info": {
   "codemirror_mode": {
    "name": "ipython",
    "version": 3
   },
   "file_extension": ".py",
   "mimetype": "text/x-python",
   "name": "python",
   "nbconvert_exporter": "python",
   "pygments_lexer": "ipython3",
   "version": "3.10.10"
  },
  "orig_nbformat": 4,
  "vscode": {
   "interpreter": {
    "hash": "10a37384344e831260a861cf3ccb71a91a8df893c8a236bb999591a820f01241"
   }
  }
 },
 "nbformat": 4,
 "nbformat_minor": 2
}
