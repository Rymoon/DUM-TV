{
 "cells": [
  {
   "cell_type": "markdown",
   "metadata": {},
   "source": []
  },
  {
   "cell_type": "code",
   "execution_count": null,
   "metadata": {},
   "outputs": [],
   "source": [
    "import dum_tv.apps.model.main as main\n",
    "from pathlib import Path\n",
    "import dum_tv as pkg\n",
    "\n",
    "configs_path =main.configs_path"
   ]
  },
  {
   "cell_type": "markdown",
   "metadata": {},
   "source": []
  },
  {
   "cell_type": "code",
   "execution_count": null,
   "metadata": {},
   "outputs": [],
   "source": [
    "from datetime import datetime\n",
    "import copy\n",
    "d = {\n",
    "        \"experiments\":{}\n",
    "}\n",
    "\n",
    "dexp = d[\"experiments\"]\n",
    "\n",
    "dd = {\n",
    "        \"note\":\"Toy denoise\",\n",
    "        \"datetime\":f\"{datetime.now()}\",\n",
    "        \"compiler\":\"compile_iteration_tv\",\n",
    "        \"config\":{\n",
    "                \"patch_shape\":(3,256,256), \n",
    "                \"n_iteration\":5, # depth of DU\n",
    "                \"varia_d\": {\n",
    "                    \"kO\":2,\n",
    "                    \"kR\":1,\n",
    "                    \"C\":3,\n",
    "                    \"kerK\":\"DxDy\",\n",
    "                    \"beta\":1,\n",
    "                    \"rho\":1\n",
    "                },\n",
    "                \"varia_d-name\":\"Toy\",\n",
    "                ## # patch batch_size: 64=16x4;\n",
    "                \"dm_batch_size\":1,\n",
    "        }\n",
    "}\n",
    "print(\"c\")\n",
    "\n",
    "dexp[\"iteration\"] = dd\n"
   ]
  }
 ],
 "metadata": {
  "kernelspec": {
   "display_name": "Python 3.10.6 ('pytorch112')",
   "language": "python",
   "name": "python3"
  },
  "language_info": {
   "name": "python",
   "version": "3.10.6"
  },
  "orig_nbformat": 4,
  "vscode": {
   "interpreter": {
    "hash": "10a37384344e831260a861cf3ccb71a91a8df893c8a236bb999591a820f01241"
   }
  }
 },
 "nbformat": 4,
 "nbformat_minor": 2
}
